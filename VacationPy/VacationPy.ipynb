{
 "cells": [
  {
   "cell_type": "markdown",
   "metadata": {},
   "source": [
    "# VacationPy\n",
    "----\n",
    "\n",
    "#### Note\n",
    "* Keep an eye on your API usage. Use https://developers.google.com/maps/reporting/gmp-reporting as reference for how to monitor your usage and billing.\n",
    "\n",
    "* Instructions have been included for each segment. You do not have to follow them exactly, but they are included to help you think through the steps."
   ]
  },
  {
   "cell_type": "code",
   "execution_count": 6,
   "metadata": {},
   "outputs": [],
   "source": [
    "# Dependencies and Setup\n",
    "import matplotlib.pyplot as plt\n",
    "import pandas as pd\n",
    "import numpy as np\n",
    "import requests\n",
    "import gmaps\n",
    "import os\n",
    "from pprint import pprint\n",
    "import json\n",
    "\n",
    "# Import API key\n",
    "from api_keys import g_key"
   ]
  },
  {
   "cell_type": "markdown",
   "metadata": {},
   "source": [
    "### Store Part I results into DataFrame\n",
    "* Load the csv exported in Part I to a DataFrame"
   ]
  },
  {
   "cell_type": "code",
   "execution_count": 7,
   "metadata": {},
   "outputs": [
    {
     "data": {
      "text/html": [
       "<div>\n",
       "<style scoped>\n",
       "    .dataframe tbody tr th:only-of-type {\n",
       "        vertical-align: middle;\n",
       "    }\n",
       "\n",
       "    .dataframe tbody tr th {\n",
       "        vertical-align: top;\n",
       "    }\n",
       "\n",
       "    .dataframe thead th {\n",
       "        text-align: right;\n",
       "    }\n",
       "</style>\n",
       "<table border=\"1\" class=\"dataframe\">\n",
       "  <thead>\n",
       "    <tr style=\"text-align: right;\">\n",
       "      <th></th>\n",
       "      <th>city</th>\n",
       "      <th>Lat</th>\n",
       "      <th>Lng</th>\n",
       "      <th>Max_Temp</th>\n",
       "      <th>Humidity</th>\n",
       "      <th>Cloudiness</th>\n",
       "      <th>Wind_Speed</th>\n",
       "      <th>Country</th>\n",
       "      <th>Date</th>\n",
       "    </tr>\n",
       "  </thead>\n",
       "  <tbody>\n",
       "    <tr>\n",
       "      <th>0</th>\n",
       "      <td>vaini</td>\n",
       "      <td>-21.2000</td>\n",
       "      <td>-175.2000</td>\n",
       "      <td>82.40</td>\n",
       "      <td>83</td>\n",
       "      <td>75</td>\n",
       "      <td>9.22</td>\n",
       "      <td>TO</td>\n",
       "      <td>1612670002</td>\n",
       "    </tr>\n",
       "    <tr>\n",
       "      <th>1</th>\n",
       "      <td>kodiak</td>\n",
       "      <td>57.7900</td>\n",
       "      <td>-152.4072</td>\n",
       "      <td>33.80</td>\n",
       "      <td>60</td>\n",
       "      <td>1</td>\n",
       "      <td>5.75</td>\n",
       "      <td>US</td>\n",
       "      <td>1612670002</td>\n",
       "    </tr>\n",
       "    <tr>\n",
       "      <th>2</th>\n",
       "      <td>jamestown</td>\n",
       "      <td>42.0970</td>\n",
       "      <td>-79.2353</td>\n",
       "      <td>15.80</td>\n",
       "      <td>53</td>\n",
       "      <td>1</td>\n",
       "      <td>6.91</td>\n",
       "      <td>US</td>\n",
       "      <td>1612669912</td>\n",
       "    </tr>\n",
       "    <tr>\n",
       "      <th>3</th>\n",
       "      <td>tasiilaq</td>\n",
       "      <td>65.6145</td>\n",
       "      <td>-37.6368</td>\n",
       "      <td>33.80</td>\n",
       "      <td>51</td>\n",
       "      <td>50</td>\n",
       "      <td>21.85</td>\n",
       "      <td>GL</td>\n",
       "      <td>1612669433</td>\n",
       "    </tr>\n",
       "    <tr>\n",
       "      <th>4</th>\n",
       "      <td>ushuaia</td>\n",
       "      <td>-54.8000</td>\n",
       "      <td>-68.3000</td>\n",
       "      <td>48.20</td>\n",
       "      <td>76</td>\n",
       "      <td>75</td>\n",
       "      <td>12.66</td>\n",
       "      <td>AR</td>\n",
       "      <td>1612670002</td>\n",
       "    </tr>\n",
       "    <tr>\n",
       "      <th>5</th>\n",
       "      <td>albany</td>\n",
       "      <td>42.6001</td>\n",
       "      <td>-73.9662</td>\n",
       "      <td>21.99</td>\n",
       "      <td>51</td>\n",
       "      <td>7</td>\n",
       "      <td>1.77</td>\n",
       "      <td>US</td>\n",
       "      <td>1612669950</td>\n",
       "    </tr>\n",
       "    <tr>\n",
       "      <th>6</th>\n",
       "      <td>tiksi</td>\n",
       "      <td>71.6872</td>\n",
       "      <td>128.8694</td>\n",
       "      <td>-25.40</td>\n",
       "      <td>85</td>\n",
       "      <td>100</td>\n",
       "      <td>6.06</td>\n",
       "      <td>RU</td>\n",
       "      <td>1612669983</td>\n",
       "    </tr>\n",
       "    <tr>\n",
       "      <th>7</th>\n",
       "      <td>taltal</td>\n",
       "      <td>-25.4000</td>\n",
       "      <td>-70.4833</td>\n",
       "      <td>63.46</td>\n",
       "      <td>76</td>\n",
       "      <td>5</td>\n",
       "      <td>2.35</td>\n",
       "      <td>CL</td>\n",
       "      <td>1612669538</td>\n",
       "    </tr>\n",
       "    <tr>\n",
       "      <th>8</th>\n",
       "      <td>khorramabad</td>\n",
       "      <td>33.4878</td>\n",
       "      <td>48.3558</td>\n",
       "      <td>42.49</td>\n",
       "      <td>84</td>\n",
       "      <td>100</td>\n",
       "      <td>3.42</td>\n",
       "      <td>IR</td>\n",
       "      <td>1612670003</td>\n",
       "    </tr>\n",
       "    <tr>\n",
       "      <th>9</th>\n",
       "      <td>russell</td>\n",
       "      <td>32.3502</td>\n",
       "      <td>-85.1999</td>\n",
       "      <td>42.80</td>\n",
       "      <td>87</td>\n",
       "      <td>90</td>\n",
       "      <td>5.75</td>\n",
       "      <td>US</td>\n",
       "      <td>1612670003</td>\n",
       "    </tr>\n",
       "  </tbody>\n",
       "</table>\n",
       "</div>"
      ],
      "text/plain": [
       "          city      Lat       Lng  Max_Temp  Humidity  Cloudiness  Wind_Speed  \\\n",
       "0        vaini -21.2000 -175.2000     82.40        83          75        9.22   \n",
       "1       kodiak  57.7900 -152.4072     33.80        60           1        5.75   \n",
       "2    jamestown  42.0970  -79.2353     15.80        53           1        6.91   \n",
       "3     tasiilaq  65.6145  -37.6368     33.80        51          50       21.85   \n",
       "4      ushuaia -54.8000  -68.3000     48.20        76          75       12.66   \n",
       "5       albany  42.6001  -73.9662     21.99        51           7        1.77   \n",
       "6        tiksi  71.6872  128.8694    -25.40        85         100        6.06   \n",
       "7       taltal -25.4000  -70.4833     63.46        76           5        2.35   \n",
       "8  khorramabad  33.4878   48.3558     42.49        84         100        3.42   \n",
       "9      russell  32.3502  -85.1999     42.80        87          90        5.75   \n",
       "\n",
       "  Country        Date  \n",
       "0      TO  1612670002  \n",
       "1      US  1612670002  \n",
       "2      US  1612669912  \n",
       "3      GL  1612669433  \n",
       "4      AR  1612670002  \n",
       "5      US  1612669950  \n",
       "6      RU  1612669983  \n",
       "7      CL  1612669538  \n",
       "8      IR  1612670003  \n",
       "9      US  1612670003  "
      ]
     },
     "execution_count": 7,
     "metadata": {},
     "output_type": "execute_result"
    }
   ],
   "source": [
    "weather_data_df = pd.read_csv('weather_data.csv')\n",
    "weather_data_df.head(10)"
   ]
  },
  {
   "cell_type": "markdown",
   "metadata": {},
   "source": [
    "### Humidity Heatmap\n",
    "* Configure gmaps.\n",
    "* Use the Lat and Lng as locations and Humidity as the weight.\n",
    "* Add Heatmap layer to map."
   ]
  },
  {
   "cell_type": "code",
   "execution_count": 9,
   "metadata": {},
   "outputs": [],
   "source": [
    "gmaps.configure(api_key=g_key)"
   ]
  },
  {
   "cell_type": "code",
   "execution_count": 15,
   "metadata": {},
   "outputs": [
    {
     "data": {
      "application/vnd.jupyter.widget-view+json": {
       "model_id": "6d0b2383e8f84919ba4d9489c0af2ca6",
       "version_major": 2,
       "version_minor": 0
      },
      "text/plain": [
       "Figure(layout=FigureLayout(height='420px'))"
      ]
     },
     "metadata": {},
     "output_type": "display_data"
    }
   ],
   "source": [
    "locations = weather_data_df[[\"Lat\", \"Lng\"]].astype(float)\n",
    "weight = weather_data_df['Humidity'].astype(float)\n",
    "\n",
    "fig = gmaps.figure()\n",
    "heat_layer = gmaps.heatmap_layer(locations, weights=weight, \n",
    "                                 dissipating=False, max_intensity=100,\n",
    "                                 point_radius = 1)\n",
    "fig.add_layer(heat_layer)\n",
    "\n",
    "fig = gmaps.figure()\n",
    "\n",
    "fig.add_layer(heat_layer)\n",
    "\n",
    "\n",
    "fig"
   ]
  },
  {
   "cell_type": "markdown",
   "metadata": {},
   "source": [
    "### Create new DataFrame fitting weather criteria\n",
    "* Narrow down the cities to fit weather conditions.\n",
    "* Drop any rows will null values."
   ]
  },
  {
   "cell_type": "code",
   "execution_count": null,
   "metadata": {},
   "outputs": [],
   "source": []
  },
  {
   "cell_type": "markdown",
   "metadata": {},
   "source": [
    "### Hotel Map\n",
    "* Store into variable named `hotel_df`.\n",
    "* Add a \"Hotel Name\" column to the DataFrame.\n",
    "* Set parameters to search for hotels with 5000 meters.\n",
    "* Hit the Google Places API for each city's coordinates.\n",
    "* Store the first Hotel result into the DataFrame.\n",
    "* Plot markers on top of the heatmap."
   ]
  },
  {
   "cell_type": "code",
   "execution_count": null,
   "metadata": {},
   "outputs": [],
   "source": []
  },
  {
   "cell_type": "code",
   "execution_count": null,
   "metadata": {},
   "outputs": [],
   "source": []
  },
  {
   "cell_type": "code",
   "execution_count": null,
   "metadata": {},
   "outputs": [],
   "source": [
    "# NOTE: Do not change any of the code in this cell\n",
    "\n",
    "# Using the template add the hotel marks to the heatmap\n",
    "info_box_template = \"\"\"\n",
    "<dl>\n",
    "<dt>Name</dt><dd>{Hotel Name}</dd>\n",
    "<dt>City</dt><dd>{City}</dd>\n",
    "<dt>Country</dt><dd>{Country}</dd>\n",
    "</dl>\n",
    "\"\"\"\n",
    "# Store the DataFrame Row\n",
    "# NOTE: be sure to update with your DataFrame name\n",
    "hotel_info = [info_box_template.format(**row) for index, row in hotel_df.iterrows()]\n",
    "locations = hotel_df[[\"Lat\", \"Lng\"]]"
   ]
  },
  {
   "cell_type": "code",
   "execution_count": null,
   "metadata": {},
   "outputs": [],
   "source": [
    "# Add marker layer ontop of heat map\n",
    "\n",
    "\n",
    "# Display figure\n"
   ]
  },
  {
   "cell_type": "code",
   "execution_count": null,
   "metadata": {},
   "outputs": [],
   "source": []
  }
 ],
 "metadata": {
  "kernelspec": {
   "display_name": "Python 3",
   "language": "python",
   "name": "python3"
  },
  "language_info": {
   "codemirror_mode": {
    "name": "ipython",
    "version": 3
   },
   "file_extension": ".py",
   "mimetype": "text/x-python",
   "name": "python",
   "nbconvert_exporter": "python",
   "pygments_lexer": "ipython3",
   "version": "3.8.5"
  },
  "latex_envs": {
   "LaTeX_envs_menu_present": true,
   "autoclose": false,
   "autocomplete": true,
   "bibliofile": "biblio.bib",
   "cite_by": "apalike",
   "current_citInitial": 1,
   "eqLabelWithNumbers": true,
   "eqNumInitial": 1,
   "hotkeys": {
    "equation": "Ctrl-E",
    "itemize": "Ctrl-I"
   },
   "labels_anchors": false,
   "latex_user_defs": false,
   "report_style_numbering": false,
   "user_envs_cfg": false
  }
 },
 "nbformat": 4,
 "nbformat_minor": 4
}
